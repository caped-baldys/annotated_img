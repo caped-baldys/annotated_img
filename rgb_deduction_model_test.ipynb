{
  "cells": [
    {
      "cell_type": "code",
      "execution_count": 1,
      "metadata": {
        "colab": {
          "base_uri": "https://localhost:8080/"
        },
        "collapsed": true,
        "id": "EJZ14Zg-jatU",
        "outputId": "22d0e1bb-8cd1-46d8-c0cb-7c7a4c641c35"
      },
      "outputs": [
        {
          "name": "stdout",
          "output_type": "stream",
          "text": [
            "Cloning into 'annotated_img'...\n",
            "remote: Enumerating objects: 3210, done.\u001b[K\n",
            "remote: Counting objects: 100% (5/5), done.\u001b[K\n",
            "remote: Compressing objects: 100% (5/5), done.\u001b[K\n",
            "remote: Total 3210 (delta 0), reused 4 (delta 0), pack-reused 3205\u001b[K\n",
            "Receiving objects: 100% (3210/3210), 164.19 MiB | 20.84 MiB/s, done.\n",
            "Resolving deltas: 100% (2/2), done.\n"
          ]
        }
      ],
      "source": [
        "!git clone https://github.com/caped-baldys/annotated_img.git"
      ]
    },
    {
      "cell_type": "code",
      "execution_count": 1,
      "metadata": {
        "id": "Aj3cVIalH3tg"
      },
      "outputs": [
        {
          "name": "stdout",
          "output_type": "stream",
          "text": [
            "Requirement already satisfied: ultralytics in c:\\users\\dell\\appdata\\local\\programs\\python\\python312\\lib\\site-packages (8.1.33)\n",
            "Requirement already satisfied: matplotlib>=3.3.0 in c:\\users\\dell\\appdata\\local\\programs\\python\\python312\\lib\\site-packages (from ultralytics) (3.8.3)\n",
            "Collecting opencv-python>=4.6.0 (from ultralytics)\n",
            "  Downloading opencv_python-4.10.0.84-cp37-abi3-win_amd64.whl.metadata (20 kB)\n",
            "Requirement already satisfied: pillow>=7.1.2 in c:\\users\\dell\\appdata\\local\\programs\\python\\python312\\lib\\site-packages (from ultralytics) (10.2.0)\n",
            "Requirement already satisfied: pyyaml>=5.3.1 in c:\\users\\dell\\appdata\\local\\programs\\python\\python312\\lib\\site-packages (from ultralytics) (6.0.1)\n",
            "Requirement already satisfied: requests>=2.23.0 in c:\\users\\dell\\appdata\\local\\programs\\python\\python312\\lib\\site-packages (from ultralytics) (2.31.0)\n",
            "Requirement already satisfied: scipy>=1.4.1 in c:\\users\\dell\\appdata\\local\\programs\\python\\python312\\lib\\site-packages (from ultralytics) (1.12.0)\n",
            "Requirement already satisfied: torch>=1.8.0 in c:\\users\\dell\\appdata\\local\\programs\\python\\python312\\lib\\site-packages (from ultralytics) (2.2.1)\n",
            "Requirement already satisfied: torchvision>=0.9.0 in c:\\users\\dell\\appdata\\local\\programs\\python\\python312\\lib\\site-packages (from ultralytics) (0.17.1)\n",
            "Requirement already satisfied: tqdm>=4.64.0 in c:\\users\\dell\\appdata\\local\\programs\\python\\python312\\lib\\site-packages (from ultralytics) (4.66.2)\n",
            "Requirement already satisfied: psutil in c:\\users\\dell\\appdata\\roaming\\python\\python312\\site-packages (from ultralytics) (5.9.8)\n",
            "Requirement already satisfied: py-cpuinfo in c:\\users\\dell\\appdata\\local\\programs\\python\\python312\\lib\\site-packages (from ultralytics) (9.0.0)\n",
            "Requirement already satisfied: thop>=0.1.1 in c:\\users\\dell\\appdata\\local\\programs\\python\\python312\\lib\\site-packages (from ultralytics) (0.1.1.post2209072238)\n",
            "Requirement already satisfied: pandas>=1.1.4 in c:\\users\\dell\\appdata\\local\\programs\\python\\python312\\lib\\site-packages (from ultralytics) (2.2.1)\n",
            "Requirement already satisfied: seaborn>=0.11.0 in c:\\users\\dell\\appdata\\local\\programs\\python\\python312\\lib\\site-packages (from ultralytics) (0.13.2)\n",
            "Requirement already satisfied: contourpy>=1.0.1 in c:\\users\\dell\\appdata\\local\\programs\\python\\python312\\lib\\site-packages (from matplotlib>=3.3.0->ultralytics) (1.2.0)\n",
            "Requirement already satisfied: cycler>=0.10 in c:\\users\\dell\\appdata\\local\\programs\\python\\python312\\lib\\site-packages (from matplotlib>=3.3.0->ultralytics) (0.12.1)\n",
            "Requirement already satisfied: fonttools>=4.22.0 in c:\\users\\dell\\appdata\\local\\programs\\python\\python312\\lib\\site-packages (from matplotlib>=3.3.0->ultralytics) (4.50.0)\n",
            "Requirement already satisfied: kiwisolver>=1.3.1 in c:\\users\\dell\\appdata\\local\\programs\\python\\python312\\lib\\site-packages (from matplotlib>=3.3.0->ultralytics) (1.4.5)\n",
            "Requirement already satisfied: numpy<2,>=1.21 in c:\\users\\dell\\appdata\\local\\programs\\python\\python312\\lib\\site-packages (from matplotlib>=3.3.0->ultralytics) (1.26.4)\n",
            "Requirement already satisfied: packaging>=20.0 in c:\\users\\dell\\appdata\\roaming\\python\\python312\\site-packages (from matplotlib>=3.3.0->ultralytics) (24.0)\n",
            "Requirement already satisfied: pyparsing>=2.3.1 in c:\\users\\dell\\appdata\\local\\programs\\python\\python312\\lib\\site-packages (from matplotlib>=3.3.0->ultralytics) (3.1.2)\n",
            "Requirement already satisfied: python-dateutil>=2.7 in c:\\users\\dell\\appdata\\roaming\\python\\python312\\site-packages (from matplotlib>=3.3.0->ultralytics) (2.9.0.post0)\n",
            "Requirement already satisfied: pytz>=2020.1 in c:\\users\\dell\\appdata\\local\\programs\\python\\python312\\lib\\site-packages (from pandas>=1.1.4->ultralytics) (2024.1)\n",
            "Requirement already satisfied: tzdata>=2022.7 in c:\\users\\dell\\appdata\\local\\programs\\python\\python312\\lib\\site-packages (from pandas>=1.1.4->ultralytics) (2024.1)\n",
            "Requirement already satisfied: charset-normalizer<4,>=2 in c:\\users\\dell\\appdata\\local\\programs\\python\\python312\\lib\\site-packages (from requests>=2.23.0->ultralytics) (3.3.2)\n",
            "Requirement already satisfied: idna<4,>=2.5 in c:\\users\\dell\\appdata\\local\\programs\\python\\python312\\lib\\site-packages (from requests>=2.23.0->ultralytics) (2.10)\n",
            "Requirement already satisfied: urllib3<3,>=1.21.1 in c:\\users\\dell\\appdata\\local\\programs\\python\\python312\\lib\\site-packages (from requests>=2.23.0->ultralytics) (2.2.1)\n",
            "Requirement already satisfied: certifi>=2017.4.17 in c:\\users\\dell\\appdata\\local\\programs\\python\\python312\\lib\\site-packages (from requests>=2.23.0->ultralytics) (2024.2.2)\n",
            "Requirement already satisfied: filelock in c:\\users\\dell\\appdata\\local\\programs\\python\\python312\\lib\\site-packages (from torch>=1.8.0->ultralytics) (3.13.1)\n",
            "Requirement already satisfied: typing-extensions>=4.8.0 in c:\\users\\dell\\appdata\\local\\programs\\python\\python312\\lib\\site-packages (from torch>=1.8.0->ultralytics) (4.10.0)\n",
            "Requirement already satisfied: sympy in c:\\users\\dell\\appdata\\local\\programs\\python\\python312\\lib\\site-packages (from torch>=1.8.0->ultralytics) (1.12)\n",
            "Requirement already satisfied: networkx in c:\\users\\dell\\appdata\\local\\programs\\python\\python312\\lib\\site-packages (from torch>=1.8.0->ultralytics) (3.2.1)\n",
            "Requirement already satisfied: jinja2 in c:\\users\\dell\\appdata\\local\\programs\\python\\python312\\lib\\site-packages (from torch>=1.8.0->ultralytics) (3.1.3)\n",
            "Requirement already satisfied: fsspec in c:\\users\\dell\\appdata\\local\\programs\\python\\python312\\lib\\site-packages (from torch>=1.8.0->ultralytics) (2024.3.1)\n",
            "Requirement already satisfied: colorama in c:\\users\\dell\\appdata\\roaming\\python\\python312\\site-packages (from tqdm>=4.64.0->ultralytics) (0.4.6)\n",
            "Requirement already satisfied: six>=1.5 in c:\\users\\dell\\appdata\\local\\programs\\python\\python312\\lib\\site-packages (from python-dateutil>=2.7->matplotlib>=3.3.0->ultralytics) (1.16.0)\n",
            "Requirement already satisfied: MarkupSafe>=2.0 in c:\\users\\dell\\appdata\\local\\programs\\python\\python312\\lib\\site-packages (from jinja2->torch>=1.8.0->ultralytics) (2.1.5)\n",
            "Requirement already satisfied: mpmath>=0.19 in c:\\users\\dell\\appdata\\local\\programs\\python\\python312\\lib\\site-packages (from sympy->torch>=1.8.0->ultralytics) (1.3.0)\n",
            "Downloading opencv_python-4.10.0.84-cp37-abi3-win_amd64.whl (38.8 MB)\n",
            "   ---------------------------------------- 38.8/38.8 MB 1.0 MB/s eta 0:00:00\n",
            "Installing collected packages: opencv-python\n",
            "Successfully installed opencv-python-4.10.0.84\n"
          ]
        },
        {
          "name": "stderr",
          "output_type": "stream",
          "text": [
            "\n",
            "[notice] A new release of pip is available: 24.0 -> 24.1.1\n",
            "[notice] To update, run: C:\\Users\\DELL\\AppData\\Local\\Programs\\Python\\Python312\\python.exe -m pip install --upgrade pip\n"
          ]
        }
      ],
      "source": [
        "!pip install ultralytics"
      ]
    },
    {
      "cell_type": "code",
      "execution_count": 3,
      "metadata": {
        "colab": {
          "base_uri": "https://localhost:8080/"
        },
        "id": "x8SzfoYYjJI3",
        "outputId": "6f17d2d8-ec6b-4798-bd00-362cacc9af99"
      },
      "outputs": [
        {
          "name": "stdout",
          "output_type": "stream",
          "text": [
            "\u001b[2K     \u001b[90m━━━━━━━━━━━━━━━━━━━━━━━━━━━━━━━━━━━━━━━━\u001b[0m \u001b[32m677.4/677.4 kB\u001b[0m \u001b[31m7.8 MB/s\u001b[0m eta \u001b[36m0:00:00\u001b[0m\n",
            "\u001b[2K     \u001b[90m━━━━━━━━━━━━━━━━━━━━━━━━━━━━━━━━━━━━━━━━\u001b[0m \u001b[32m3.3/3.3 MB\u001b[0m \u001b[31m25.5 MB/s\u001b[0m eta \u001b[36m0:00:00\u001b[0m\n",
            "\u001b[2K     \u001b[90m━━━━━━━━━━━━━━━━━━━━━━━━━━━━━━━━━━━━━━━━\u001b[0m \u001b[32m54.5/54.5 kB\u001b[0m \u001b[31m6.8 MB/s\u001b[0m eta \u001b[36m0:00:00\u001b[0m\n",
            "\u001b[2K     \u001b[90m━━━━━━━━━━━━━━━━━━━━━━━━━━━━━━━━━━━━━━━━\u001b[0m \u001b[32m300.2/300.2 kB\u001b[0m \u001b[31m22.6 MB/s\u001b[0m eta \u001b[36m0:00:00\u001b[0m\n",
            "\u001b[2K     \u001b[90m━━━━━━━━━━━━━━━━━━━━━━━━━━━━━━━━━━━━━━━━\u001b[0m \u001b[32m137.9/137.9 kB\u001b[0m \u001b[31m16.3 MB/s\u001b[0m eta \u001b[36m0:00:00\u001b[0m\n",
            "\u001b[2K     \u001b[90m━━━━━━━━━━━━━━━━━━━━━━━━━━━━━━━━━━━━━━━━\u001b[0m \u001b[32m979.1/979.1 kB\u001b[0m \u001b[31m39.0 MB/s\u001b[0m eta \u001b[36m0:00:00\u001b[0m\n",
            "\u001b[?25hPlease paste your Comet API key from https://www.comet.com/api/my/settings/\n",
            "(api key may not show as you type)\n",
            "Comet API key: ··········\n"
          ]
        },
        {
          "name": "stderr",
          "output_type": "stream",
          "text": [
            "\u001b[1;38;5;39mCOMET INFO:\u001b[0m Valid Comet API Key saved in /root/.comet.config (set COMET_CONFIG to change where it is saved).\n"
          ]
        }
      ],
      "source": [
        "#@title Select YOLOv8 🚀 logger {run: 'auto'}\n",
        "logger = 'Comet' #@param ['Comet', 'TensorBoard']\n",
        "\n",
        "if logger == 'Comet':\n",
        "  %pip install -q comet_ml\n",
        "  import comet_ml; comet_ml.init()\n",
        "elif logger == 'TensorBoard':\n",
        "  %load_ext tensorboard\n",
        "  %tensorboard --logdir "
      ]
    },
    {
      "cell_type": "code",
      "execution_count": 4,
      "metadata": {
        "id": "EfdgfFbKjL7D"
      },
      "outputs": [],
      "source": [
        "# Train YOLOv8n on COCO8 for 3 epochs\n",
        "# !yolo train model=yolov8n.pt data=coco8.yaml epochs=3 imgsz=640"
      ]
    },
    {
      "cell_type": "code",
      "execution_count": 5,
      "metadata": {
        "colab": {
          "base_uri": "https://localhost:8080/"
        },
        "id": "fsHpp9_RL1ld",
        "outputId": "2a4316ef-725f-443a-b3c2-9e672cb0a434"
      },
      "outputs": [
        {
          "name": "stdout",
          "output_type": "stream",
          "text": [
            "/content/annotated_img\n"
          ]
        }
      ],
      "source": [
        "%cd /content/annotated_img"
      ]
    },
    {
      "cell_type": "code",
      "execution_count": 8,
      "metadata": {},
      "outputs": [
        {
          "name": "stdout",
          "output_type": "stream",
          "text": [
            "Collecting ultralyticsNote: you may need to restart the kernel to use updated packages.\n"
          ]
        },
        {
          "name": "stderr",
          "output_type": "stream",
          "text": [
            "\n",
            "[notice] A new release of pip available: 22.3.1 -> 24.1.1\n",
            "[notice] To update, run: python.exe -m pip install --upgrade pip\n"
          ]
        },
        {
          "name": "stdout",
          "output_type": "stream",
          "text": [
            "\n",
            "  Downloading ultralytics-8.2.48-py3-none-any.whl (793 kB)\n",
            "     -------------------------------------- 793.7/793.7 kB 1.5 MB/s eta 0:00:00\n",
            "Requirement already satisfied: py-cpuinfo in c:\\users\\dell\\appdata\\local\\programs\\python\\python310\\lib\\site-packages (from ultralytics) (9.0.0)\n",
            "Requirement already satisfied: pyyaml>=5.3.1 in c:\\users\\dell\\appdata\\roaming\\python\\python310\\site-packages (from ultralytics) (6.0)\n",
            "Requirement already satisfied: scipy>=1.4.1 in c:\\users\\dell\\appdata\\roaming\\python\\python310\\site-packages (from ultralytics) (1.10.1)\n",
            "Requirement already satisfied: tqdm>=4.64.0 in c:\\users\\dell\\appdata\\roaming\\python\\python310\\site-packages (from ultralytics) (4.64.1)\n",
            "Requirement already satisfied: numpy<2.0.0,>=1.23.0 in c:\\users\\dell\\appdata\\local\\programs\\python\\python310\\lib\\site-packages (from ultralytics) (1.26.4)\n",
            "Collecting ultralytics-thop>=2.0.0\n",
            "  Downloading ultralytics_thop-2.0.0-py3-none-any.whl (25 kB)\n",
            "Requirement already satisfied: pandas>=1.1.4 in c:\\users\\dell\\appdata\\roaming\\python\\python310\\site-packages (from ultralytics) (1.5.2)\n",
            "Requirement already satisfied: requests>=2.23.0 in c:\\users\\dell\\appdata\\local\\programs\\python\\python310\\lib\\site-packages (from ultralytics) (2.26.0)\n",
            "Requirement already satisfied: torch>=1.8.0 in c:\\users\\dell\\appdata\\local\\programs\\python\\python310\\lib\\site-packages (from ultralytics) (2.3.1)\n",
            "Requirement already satisfied: seaborn>=0.11.0 in c:\\users\\dell\\appdata\\roaming\\python\\python310\\site-packages (from ultralytics) (0.12.2)\n",
            "Requirement already satisfied: torchvision>=0.9.0 in c:\\users\\dell\\appdata\\local\\programs\\python\\python310\\lib\\site-packages (from ultralytics) (0.18.1)\n",
            "Requirement already satisfied: psutil in c:\\users\\dell\\appdata\\roaming\\python\\python310\\site-packages (from ultralytics) (5.9.1)\n",
            "Requirement already satisfied: matplotlib>=3.3.0 in c:\\users\\dell\\appdata\\local\\programs\\python\\python310\\lib\\site-packages (from ultralytics) (3.9.0)\n",
            "Requirement already satisfied: pillow>=7.1.2 in c:\\users\\dell\\appdata\\local\\programs\\python\\python310\\lib\\site-packages (from ultralytics) (10.3.0)\n",
            "Requirement already satisfied: opencv-python>=4.6.0 in c:\\users\\dell\\appdata\\local\\programs\\python\\python310\\lib\\site-packages (from ultralytics) (4.6.0.66)\n",
            "Requirement already satisfied: python-dateutil>=2.7 in c:\\users\\dell\\appdata\\roaming\\python\\python310\\site-packages (from matplotlib>=3.3.0->ultralytics) (2.8.2)\n",
            "Requirement already satisfied: cycler>=0.10 in c:\\users\\dell\\appdata\\local\\programs\\python\\python310\\lib\\site-packages (from matplotlib>=3.3.0->ultralytics) (0.10.0)\n",
            "Requirement already satisfied: pyparsing>=2.3.1 in c:\\users\\dell\\appdata\\roaming\\python\\python310\\site-packages (from matplotlib>=3.3.0->ultralytics) (3.0.9)\n",
            "Requirement already satisfied: contourpy>=1.0.1 in c:\\users\\dell\\appdata\\roaming\\python\\python310\\site-packages (from matplotlib>=3.3.0->ultralytics) (1.0.6)\n",
            "Requirement already satisfied: kiwisolver>=1.3.1 in c:\\users\\dell\\appdata\\roaming\\python\\python310\\site-packages (from matplotlib>=3.3.0->ultralytics) (1.4.4)\n",
            "Requirement already satisfied: fonttools>=4.22.0 in c:\\users\\dell\\appdata\\roaming\\python\\python310\\site-packages (from matplotlib>=3.3.0->ultralytics) (4.38.0)\n",
            "Requirement already satisfied: packaging>=20.0 in c:\\users\\dell\\appdata\\local\\programs\\python\\python310\\lib\\site-packages (from matplotlib>=3.3.0->ultralytics) (24.1)\n",
            "Requirement already satisfied: pytz>=2020.1 in c:\\users\\dell\\appdata\\roaming\\python\\python310\\site-packages (from pandas>=1.1.4->ultralytics) (2022.7)\n",
            "Requirement already satisfied: urllib3<1.27,>=1.21.1 in c:\\users\\dell\\appdata\\roaming\\python\\python310\\site-packages (from requests>=2.23.0->ultralytics) (1.26.13)\n",
            "Requirement already satisfied: idna<4,>=2.5 in c:\\users\\dell\\appdata\\local\\programs\\python\\python310\\lib\\site-packages (from requests>=2.23.0->ultralytics) (2.10)\n",
            "Requirement already satisfied: certifi>=2017.4.17 in c:\\users\\dell\\appdata\\local\\programs\\python\\python310\\lib\\site-packages (from requests>=2.23.0->ultralytics) (2023.7.22)\n",
            "Requirement already satisfied: charset-normalizer~=2.0.0 in c:\\users\\dell\\appdata\\local\\programs\\python\\python310\\lib\\site-packages (from requests>=2.23.0->ultralytics) (2.0.12)\n",
            "Requirement already satisfied: mkl<=2021.4.0,>=2021.1.1 in c:\\users\\dell\\appdata\\local\\programs\\python\\python310\\lib\\site-packages (from torch>=1.8.0->ultralytics) (2021.4.0)\n",
            "Requirement already satisfied: sympy in c:\\users\\dell\\appdata\\local\\programs\\python\\python310\\lib\\site-packages (from torch>=1.8.0->ultralytics) (1.12.1)\n",
            "Requirement already satisfied: filelock in c:\\users\\dell\\appdata\\roaming\\python\\python310\\site-packages (from torch>=1.8.0->ultralytics) (3.8.0)\n",
            "Requirement already satisfied: networkx in c:\\users\\dell\\appdata\\local\\programs\\python\\python310\\lib\\site-packages (from torch>=1.8.0->ultralytics) (3.3)\n",
            "Requirement already satisfied: typing-extensions>=4.8.0 in c:\\users\\dell\\appdata\\local\\programs\\python\\python310\\lib\\site-packages (from torch>=1.8.0->ultralytics) (4.12.2)\n",
            "Requirement already satisfied: fsspec in c:\\users\\dell\\appdata\\local\\programs\\python\\python310\\lib\\site-packages (from torch>=1.8.0->ultralytics) (2024.6.0)\n",
            "Requirement already satisfied: jinja2 in c:\\users\\dell\\appdata\\roaming\\python\\python310\\site-packages (from torch>=1.8.0->ultralytics) (3.1.2)\n",
            "Requirement already satisfied: colorama in c:\\users\\dell\\appdata\\roaming\\python\\python310\\site-packages (from tqdm>=4.64.0->ultralytics) (0.4.5)\n",
            "Requirement already satisfied: six in c:\\users\\dell\\appdata\\roaming\\python\\python310\\site-packages (from cycler>=0.10->matplotlib>=3.3.0->ultralytics) (1.16.0)\n",
            "Requirement already satisfied: tbb==2021.* in c:\\users\\dell\\appdata\\local\\programs\\python\\python310\\lib\\site-packages (from mkl<=2021.4.0,>=2021.1.1->torch>=1.8.0->ultralytics) (2021.12.0)\n",
            "Requirement already satisfied: intel-openmp==2021.* in c:\\users\\dell\\appdata\\local\\programs\\python\\python310\\lib\\site-packages (from mkl<=2021.4.0,>=2021.1.1->torch>=1.8.0->ultralytics) (2021.4.0)\n",
            "Requirement already satisfied: MarkupSafe>=2.0 in c:\\users\\dell\\appdata\\roaming\\python\\python310\\site-packages (from jinja2->torch>=1.8.0->ultralytics) (2.1.1)\n",
            "Requirement already satisfied: mpmath<1.4.0,>=1.1.0 in c:\\users\\dell\\appdata\\local\\programs\\python\\python310\\lib\\site-packages (from sympy->torch>=1.8.0->ultralytics) (1.3.0)\n",
            "Installing collected packages: ultralytics-thop, ultralytics\n",
            "  Attempting uninstall: ultralytics-thop\n",
            "    Found existing installation: ultralytics-thop 0.2.8\n",
            "    Uninstalling ultralytics-thop-0.2.8:\n",
            "      Successfully uninstalled ultralytics-thop-0.2.8\n",
            "Successfully installed ultralytics-8.2.48 ultralytics-thop-2.0.0\n"
          ]
        }
      ],
      "source": [
        "%pip install ultralytics"
      ]
    },
    {
      "cell_type": "code",
      "execution_count": 1,
      "metadata": {
        "id": "tc28qDuNkk87"
      },
      "outputs": [],
      "source": [
        "from ultralytics import YOLO\n",
        "\n",
        "# Load a model\n",
        "model = YOLO(r'D:\\datasets\\best 9.pt')  # build a new model from scratch"
      ]
    },
    {
      "cell_type": "code",
      "execution_count": 2,
      "metadata": {
        "colab": {
          "base_uri": "https://localhost:8080/",
          "height": 532
        },
        "id": "t1Oepi1mKTmm",
        "outputId": "b3787ed2-158a-46db-d580-de94471f2929"
      },
      "outputs": [
        {
          "name": "stdout",
          "output_type": "stream",
          "text": [
            "Ultralytics YOLOv8.2.48  Python-3.10.9 torch-2.3.1+cpu CPU (Intel Core(TM) i5-5200U 2.20GHz)\n",
            "\u001b[34m\u001b[1mengine\\trainer: \u001b[0mtask=detect, mode=train, model=D:\\datasets\\best 9.pt, data=data\\dataset.yaml, epochs=5, time=None, patience=100, batch=16, imgsz=640, save=True, save_period=-1, cache=False, device=None, workers=8, project=None, name=train10, exist_ok=False, pretrained=True, optimizer=auto, verbose=True, seed=0, deterministic=True, single_cls=False, rect=False, cos_lr=False, close_mosaic=10, resume=False, amp=True, fraction=1.0, profile=False, freeze=None, multi_scale=False, overlap_mask=True, mask_ratio=4, dropout=0.0, val=True, split=val, save_json=False, save_hybrid=False, conf=None, iou=0.7, max_det=300, half=False, dnn=False, plots=True, source=None, vid_stride=1, stream_buffer=False, visualize=False, augment=False, agnostic_nms=False, classes=None, retina_masks=False, embed=None, show=False, save_frames=False, save_txt=False, save_conf=False, save_crop=False, show_labels=True, show_conf=True, show_boxes=True, line_width=None, format=torchscript, keras=False, optimize=False, int8=False, dynamic=False, simplify=False, opset=None, workspace=4, nms=False, lr0=0.01, lrf=0.01, momentum=0.937, weight_decay=0.0005, warmup_epochs=3.0, warmup_momentum=0.8, warmup_bias_lr=0.1, box=7.5, cls=0.5, dfl=1.5, pose=12.0, kobj=1.0, label_smoothing=0.0, nbs=64, hsv_h=0.015, hsv_s=0.7, hsv_v=0.4, degrees=0.0, translate=0.1, scale=0.5, shear=0.0, perspective=0.0, flipud=0.0, fliplr=0.5, bgr=0.0, mosaic=1.0, mixup=0.0, copy_paste=0.0, auto_augment=randaugment, erasing=0.4, crop_fraction=1.0, cfg=None, tracker=botsort.yaml, save_dir=runs\\detect\\train10\n",
            "Overriding model.yaml nc=3 with nc=6\n",
            "\n",
            "                   from  n    params  module                                       arguments                     \n",
            "  0                  -1  1       928  ultralytics.nn.modules.conv.Conv             [3, 32, 3, 2]                 \n",
            "  1                  -1  1     18560  ultralytics.nn.modules.conv.Conv             [32, 64, 3, 2]                \n",
            "  2                  -1  1     29056  ultralytics.nn.modules.block.C2f             [64, 64, 1, True]             \n",
            "  3                  -1  1     73984  ultralytics.nn.modules.conv.Conv             [64, 128, 3, 2]               \n",
            "  4                  -1  2    197632  ultralytics.nn.modules.block.C2f             [128, 128, 2, True]           \n",
            "  5                  -1  1    295424  ultralytics.nn.modules.conv.Conv             [128, 256, 3, 2]              \n",
            "  6                  -1  2    788480  ultralytics.nn.modules.block.C2f             [256, 256, 2, True]           \n",
            "  7                  -1  1   1180672  ultralytics.nn.modules.conv.Conv             [256, 512, 3, 2]              \n",
            "  8                  -1  1   1838080  ultralytics.nn.modules.block.C2f             [512, 512, 1, True]           \n",
            "  9                  -1  1    656896  ultralytics.nn.modules.block.SPPF            [512, 512, 5]                 \n",
            " 10                  -1  1         0  torch.nn.modules.upsampling.Upsample         [None, 2, 'nearest']          \n",
            " 11             [-1, 6]  1         0  ultralytics.nn.modules.conv.Concat           [1]                           \n",
            " 12                  -1  1    591360  ultralytics.nn.modules.block.C2f             [768, 256, 1]                 \n",
            " 13                  -1  1         0  torch.nn.modules.upsampling.Upsample         [None, 2, 'nearest']          \n",
            " 14             [-1, 4]  1         0  ultralytics.nn.modules.conv.Concat           [1]                           \n",
            " 15                  -1  1    148224  ultralytics.nn.modules.block.C2f             [384, 128, 1]                 \n",
            " 16                  -1  1    147712  ultralytics.nn.modules.conv.Conv             [128, 128, 3, 2]              \n",
            " 17            [-1, 12]  1         0  ultralytics.nn.modules.conv.Concat           [1]                           \n",
            " 18                  -1  1    493056  ultralytics.nn.modules.block.C2f             [384, 256, 1]                 \n",
            " 19                  -1  1    590336  ultralytics.nn.modules.conv.Conv             [256, 256, 3, 2]              \n",
            " 20             [-1, 9]  1         0  ultralytics.nn.modules.conv.Concat           [1]                           \n",
            " 21                  -1  1   1969152  ultralytics.nn.modules.block.C2f             [768, 512, 1]                 \n",
            " 22        [15, 18, 21]  1   2118370  ultralytics.nn.modules.head.Detect           [6, [128, 256, 512]]          \n",
            "Model summary: 225 layers, 11137922 parameters, 11137906 gradients, 28.7 GFLOPs\n",
            "\n",
            "Transferred 349/355 items from pretrained weights\n",
            "Freezing layer 'model.22.dfl.conv.weight'\n"
          ]
        },
        {
          "name": "stderr",
          "output_type": "stream",
          "text": [
            "\u001b[34m\u001b[1mtrain: \u001b[0mScanning D:\\datasets\\data\\labels\\train.cache... 686 images, 409 backgrounds, 35 corrupt: 100%|██████████| 686/686 [00:00<?, ?it/s]"
          ]
        },
        {
          "name": "stdout",
          "output_type": "stream",
          "text": [
            "\u001b[34m\u001b[1mtrain: \u001b[0mWARNING  D:\\datasets\\data\\images\\train\\drop_car_left-91BE6F86.jpg: ignoring corrupt image/label: non-normalized or out of bounds coordinates [     1.0367]\n",
            "\u001b[34m\u001b[1mtrain: \u001b[0mWARNING  D:\\datasets\\data\\images\\train\\drop_car_left_front_door-2E892A82.jpg: ignoring corrupt image/label: non-normalized or out of bounds coordinates [     1.0198]\n",
            "\u001b[34m\u001b[1mtrain: \u001b[0mWARNING  D:\\datasets\\data\\images\\train\\drop_car_left_front_door-4296C8E9.jpg: ignoring corrupt image/label: non-normalized or out of bounds coordinates [     1.0327      1.2167]\n",
            "\u001b[34m\u001b[1mtrain: \u001b[0mWARNING  D:\\datasets\\data\\images\\train\\drop_car_left_front_door-7EE4D1DB.jpg: ignoring corrupt image/label: non-normalized or out of bounds coordinates [     1.1406]\n",
            "\u001b[34m\u001b[1mtrain: \u001b[0mWARNING  D:\\datasets\\data\\images\\train\\drop_car_left_rear_door-24350404.jpg: ignoring corrupt image/label: non-normalized or out of bounds coordinates [     1.1833]\n",
            "\u001b[34m\u001b[1mtrain: \u001b[0mWARNING  D:\\datasets\\data\\images\\train\\drop_car_left_rear_door-7E30FF71.jpg: ignoring corrupt image/label: non-normalized or out of bounds coordinates [     1.0312]\n",
            "\u001b[34m\u001b[1mtrain: \u001b[0mWARNING  D:\\datasets\\data\\images\\train\\drop_car_rear-973F0A5F.jpg: ignoring corrupt image/label: non-normalized or out of bounds coordinates [     1.0408]\n",
            "\u001b[34m\u001b[1mtrain: \u001b[0mWARNING  D:\\datasets\\data\\images\\train\\drop_car_right-B11E426D.jpg: ignoring corrupt image/label: non-normalized or out of bounds coordinates [     1.0419]\n",
            "\u001b[34m\u001b[1mtrain: \u001b[0mWARNING  D:\\datasets\\data\\images\\train\\drop_car_right-C2DA399D.jpg: ignoring corrupt image/label: non-normalized or out of bounds coordinates [     1.1542      1.0187]\n",
            "\u001b[34m\u001b[1mtrain: \u001b[0mWARNING  D:\\datasets\\data\\images\\train\\drop_car_right_front_door-2BC7E2F1.jpg: ignoring corrupt image/label: non-normalized or out of bounds coordinates [     1.0825]\n",
            "\u001b[34m\u001b[1mtrain: \u001b[0mWARNING  D:\\datasets\\data\\images\\train\\drop_car_right_front_door-4296C8E9.jpg: ignoring corrupt image/label: non-normalized or out of bounds coordinates [     1.0296      1.1171      1.1087      1.2292]\n",
            "\u001b[34m\u001b[1mtrain: \u001b[0mWARNING  D:\\datasets\\data\\images\\train\\drop_car_right_front_door-8BE67938.jpg: ignoring corrupt image/label: non-normalized or out of bounds coordinates [     1.0788]\n",
            "\u001b[34m\u001b[1mtrain: \u001b[0mWARNING  D:\\datasets\\data\\images\\train\\drop_car_right_rear_door-01562BFD.jpg: ignoring corrupt image/label: non-normalized or out of bounds coordinates [     1.0356       1.149      1.1771]\n",
            "\u001b[34m\u001b[1mtrain: \u001b[0mWARNING  D:\\datasets\\data\\images\\train\\drop_car_right_rear_door-179C2E77.jpg: ignoring corrupt image/label: non-normalized or out of bounds coordinates [      1.046]\n",
            "\u001b[34m\u001b[1mtrain: \u001b[0mWARNING  D:\\datasets\\data\\images\\train\\drop_car_right_rear_door-2BC7E2F1.jpg: ignoring corrupt image/label: non-normalized or out of bounds coordinates [      1.045      1.0042]\n",
            "\u001b[34m\u001b[1mtrain: \u001b[0mWARNING  D:\\datasets\\data\\images\\train\\drop_car_right_rear_door-4296C8E9.jpg: ignoring corrupt image/label: non-normalized or out of bounds coordinates [     1.0867      1.0471      1.2325      1.2138      1.1419      1.1437]\n",
            "\u001b[34m\u001b[1mtrain: \u001b[0mWARNING  D:\\datasets\\data\\images\\train\\drop_car_right_rear_door-53DE9E6F.jpg: ignoring corrupt image/label: non-normalized or out of bounds coordinates [     1.1898      1.1179]\n",
            "\u001b[34m\u001b[1mtrain: \u001b[0mWARNING  D:\\datasets\\data\\images\\train\\drop_car_right_rear_door-89E2AABA.jpg: ignoring corrupt image/label: non-normalized or out of bounds coordinates [     1.0044      1.1481]\n",
            "\u001b[34m\u001b[1mtrain: \u001b[0mWARNING  D:\\datasets\\data\\images\\train\\pickup_car_front-C20A9A3D.jpg: ignoring corrupt image/label: non-normalized or out of bounds coordinates [     1.0831]\n",
            "\u001b[34m\u001b[1mtrain: \u001b[0mWARNING  D:\\datasets\\data\\images\\train\\pickup_car_left_front_door-01562BFD.jpg: ignoring corrupt image/label: non-normalized or out of bounds coordinates [     1.1554      1.1231      1.0588      1.0327       1.014]\n",
            "\u001b[34m\u001b[1mtrain: \u001b[0mWARNING  D:\\datasets\\data\\images\\train\\pickup_car_left_front_door-2BC7E2F1.jpg: ignoring corrupt image/label: non-normalized or out of bounds coordinates [     1.0017      1.1988      1.2783      1.1148      1.3038      1.2815      1.0883        1.18      1.0706]\n",
            "\u001b[34m\u001b[1mtrain: \u001b[0mWARNING  D:\\datasets\\data\\images\\train\\pickup_car_left_front_door-98DF60F6.jpg: ignoring corrupt image/label: non-normalized or out of bounds coordinates [     1.0512]\n",
            "\u001b[34m\u001b[1mtrain: \u001b[0mWARNING  D:\\datasets\\data\\images\\train\\pickup_car_left_front_door-AFCEC90A.jpg: ignoring corrupt image/label: non-normalized or out of bounds coordinates [     1.2669]\n",
            "\u001b[34m\u001b[1mtrain: \u001b[0mWARNING  D:\\datasets\\data\\images\\train\\pickup_car_left_front_door-EA9FCD21.jpg: ignoring corrupt image/label: non-normalized or out of bounds coordinates [     1.1971      1.2273      1.2012      1.2773]\n",
            "\u001b[34m\u001b[1mtrain: \u001b[0mWARNING  D:\\datasets\\data\\images\\train\\pickup_car_left_rear_door-01562BFD.jpg: ignoring corrupt image/label: non-normalized or out of bounds coordinates [     1.1023      1.0125]\n",
            "\u001b[34m\u001b[1mtrain: \u001b[0mWARNING  D:\\datasets\\data\\images\\train\\pickup_car_left_rear_door-07A9F962.jpg: ignoring corrupt image/label: non-normalized or out of bounds coordinates [     1.0633      1.2602]\n",
            "\u001b[34m\u001b[1mtrain: \u001b[0mWARNING  D:\\datasets\\data\\images\\train\\pickup_car_left_rear_door-09B52E83.jpg: ignoring corrupt image/label: non-normalized or out of bounds coordinates [     1.0417      1.0885      1.0469]\n",
            "\u001b[34m\u001b[1mtrain: \u001b[0mWARNING  D:\\datasets\\data\\images\\train\\pickup_car_left_rear_door-2BC7E2F1.jpg: ignoring corrupt image/label: non-normalized or out of bounds coordinates [     1.0258      1.0435]\n",
            "\u001b[34m\u001b[1mtrain: \u001b[0mWARNING  D:\\datasets\\data\\images\\train\\pickup_car_left_rear_door-37CBFB0C.jpg: ignoring corrupt image/label: non-normalized or out of bounds coordinates [     1.0223]\n",
            "\u001b[34m\u001b[1mtrain: \u001b[0mWARNING  D:\\datasets\\data\\images\\train\\pickup_car_left_rear_door-EA9FCD21.jpg: ignoring corrupt image/label: non-normalized or out of bounds coordinates [     1.1013      1.0263]\n",
            "\u001b[34m\u001b[1mtrain: \u001b[0mWARNING  D:\\datasets\\data\\images\\train\\pickup_car_rear-AD528B8F.jpg: ignoring corrupt image/label: negative label values [   -0.05625    -0.11563    -0.12125    -0.19453    -0.39219   -0.010937      -0.025]\n",
            "\u001b[34m\u001b[1mtrain: \u001b[0mWARNING  D:\\datasets\\data\\images\\train\\pickup_car_right_front_door-4296C8E9.jpg: ignoring corrupt image/label: non-normalized or out of bounds coordinates [     1.1492        1.02]\n",
            "\u001b[34m\u001b[1mtrain: \u001b[0mWARNING  D:\\datasets\\data\\images\\train\\pickup_car_right_front_door-DCB77672.jpg: ignoring corrupt image/label: non-normalized or out of bounds coordinates [     1.0023]\n",
            "\u001b[34m\u001b[1mtrain: \u001b[0mWARNING  D:\\datasets\\data\\images\\train\\pickup_car_right_rear_door-24350404.jpg: ignoring corrupt image/label: non-normalized or out of bounds coordinates [     1.1513]\n",
            "\u001b[34m\u001b[1mtrain: \u001b[0mWARNING  D:\\datasets\\data\\images\\train\\pickup_car_right_rear_door-2BC7E2F1.jpg: ignoring corrupt image/label: non-normalized or out of bounds coordinates [     1.2169      1.3027       1.146]\n"
          ]
        },
        {
          "name": "stderr",
          "output_type": "stream",
          "text": [
            "\n",
            "\u001b[34m\u001b[1mval: \u001b[0mScanning D:\\datasets\\data\\labels\\val.cache... 457 images, 275 backgrounds, 21 corrupt: 100%|██████████| 457/457 [00:00<?, ?it/s]"
          ]
        },
        {
          "name": "stdout",
          "output_type": "stream",
          "text": [
            "\u001b[34m\u001b[1mval: \u001b[0mWARNING  D:\\datasets\\data\\images\\val\\drop_car_front-12D8EBD1.jpg: ignoring corrupt image/label: non-normalized or out of bounds coordinates [     1.0762]\n",
            "\u001b[34m\u001b[1mval: \u001b[0mWARNING  D:\\datasets\\data\\images\\val\\drop_car_front-AF63BBDA.jpg: ignoring corrupt image/label: non-normalized or out of bounds coordinates [     1.0283]\n",
            "\u001b[34m\u001b[1mval: \u001b[0mWARNING  D:\\datasets\\data\\images\\val\\drop_car_left_rear_door-2BC7E2F1.jpg: ignoring corrupt image/label: non-normalized or out of bounds coordinates [     1.0237]\n",
            "\u001b[34m\u001b[1mval: \u001b[0mWARNING  D:\\datasets\\data\\images\\val\\drop_car_rear-BC3EC20C.jpg: ignoring corrupt image/label: non-normalized or out of bounds coordinates [     1.0398]\n",
            "\u001b[34m\u001b[1mval: \u001b[0mWARNING  D:\\datasets\\data\\images\\val\\drop_car_rear-EBE05CB8.jpg: ignoring corrupt image/label: non-normalized or out of bounds coordinates [     1.2106      1.1971      1.2533      1.2221      1.2127]\n",
            "\u001b[34m\u001b[1mval: \u001b[0mWARNING  D:\\datasets\\data\\images\\val\\drop_car_right_front_door-89E2AABA.jpg: ignoring corrupt image/label: non-normalized or out of bounds coordinates [     1.0467]\n",
            "\u001b[34m\u001b[1mval: \u001b[0mWARNING  D:\\datasets\\data\\images\\val\\drop_car_right_front_door-8C7F6BC6.jpg: ignoring corrupt image/label: non-normalized or out of bounds coordinates [     1.0387]\n",
            "\u001b[34m\u001b[1mval: \u001b[0mWARNING  D:\\datasets\\data\\images\\val\\drop_car_right_front_door-C51E9CE4.jpg: ignoring corrupt image/label: non-normalized or out of bounds coordinates [     1.0304]\n",
            "\u001b[34m\u001b[1mval: \u001b[0mWARNING  D:\\datasets\\data\\images\\val\\drop_car_right_rear_door-973F0A5F.jpg: ignoring corrupt image/label: non-normalized or out of bounds coordinates [     1.1096]\n",
            "\u001b[34m\u001b[1mval: \u001b[0mWARNING  D:\\datasets\\data\\images\\val\\drop_car_right_rear_door-E9D63432.jpg: ignoring corrupt image/label: non-normalized or out of bounds coordinates [     1.0165]\n",
            "\u001b[34m\u001b[1mval: \u001b[0mWARNING  D:\\datasets\\data\\images\\val\\pickup_car_front-AF63BBDA.jpg: ignoring corrupt image/label: negative label values [  -0.021875]\n",
            "\u001b[34m\u001b[1mval: \u001b[0mWARNING  D:\\datasets\\data\\images\\val\\pickup_car_left_front_door-179C2E77.jpg: ignoring corrupt image/label: non-normalized or out of bounds coordinates [     1.0533]\n",
            "\u001b[34m\u001b[1mval: \u001b[0mWARNING  D:\\datasets\\data\\images\\val\\pickup_car_right_front_door-01562BFD.jpg: ignoring corrupt image/label: non-normalized or out of bounds coordinates [     1.1846]\n",
            "\u001b[34m\u001b[1mval: \u001b[0mWARNING  D:\\datasets\\data\\images\\val\\pickup_car_right_front_door-09B516A8.jpg: ignoring corrupt image/label: non-normalized or out of bounds coordinates [     1.0388      1.2283]\n",
            "\u001b[34m\u001b[1mval: \u001b[0mWARNING  D:\\datasets\\data\\images\\val\\pickup_car_right_front_door-64A02548.jpg: ignoring corrupt image/label: non-normalized or out of bounds coordinates [     1.0833]\n",
            "\u001b[34m\u001b[1mval: \u001b[0mWARNING  D:\\datasets\\data\\images\\val\\pickup_car_right_front_door-E9D63432.jpg: ignoring corrupt image/label: non-normalized or out of bounds coordinates [     1.2085      1.3121      1.1481      1.1502      1.0638]\n",
            "\u001b[34m\u001b[1mval: \u001b[0mWARNING  D:\\datasets\\data\\images\\val\\pickup_car_right_rear_door-179C2E77.jpg: ignoring corrupt image/label: non-normalized or out of bounds coordinates [     1.1137]\n",
            "\u001b[34m\u001b[1mval: \u001b[0mWARNING  D:\\datasets\\data\\images\\val\\pickup_car_right_rear_door-4296C8E9.jpg: ignoring corrupt image/label: non-normalized or out of bounds coordinates [     1.0044       1.071      1.1148      1.0721]\n",
            "\u001b[34m\u001b[1mval: \u001b[0mWARNING  D:\\datasets\\data\\images\\val\\pickup_car_right_rear_door-8AA5F54A.jpg: ignoring corrupt image/label: non-normalized or out of bounds coordinates [     1.0554]\n",
            "\u001b[34m\u001b[1mval: \u001b[0mWARNING  D:\\datasets\\data\\images\\val\\pickup_car_right_rear_door-E7504B60.jpg: ignoring corrupt image/label: non-normalized or out of bounds coordinates [     1.1492]\n",
            "\u001b[34m\u001b[1mval: \u001b[0mWARNING  D:\\datasets\\data\\images\\val\\pickup_car_right_rear_door-F15FFA02.jpg: ignoring corrupt image/label: non-normalized or out of bounds coordinates [     1.1229]\n"
          ]
        },
        {
          "name": "stderr",
          "output_type": "stream",
          "text": [
            "\n"
          ]
        },
        {
          "name": "stdout",
          "output_type": "stream",
          "text": [
            "Plotting labels to runs\\detect\\train10\\labels.jpg... \n",
            "\u001b[34m\u001b[1moptimizer:\u001b[0m 'optimizer=auto' found, ignoring 'lr0=0.01' and 'momentum=0.937' and determining best 'optimizer', 'lr0' and 'momentum' automatically... \n",
            "\u001b[34m\u001b[1moptimizer:\u001b[0m AdamW(lr=0.001, momentum=0.9) with parameter groups 57 weight(decay=0.0), 64 weight(decay=0.0005), 63 bias(decay=0.0)\n",
            "Image sizes 640 train, 640 val\n",
            "Using 0 dataloader workers\n",
            "Logging results to \u001b[1mruns\\detect\\train10\u001b[0m\n",
            "Starting training for 5 epochs...\n",
            "\n",
            "      Epoch    GPU_mem   box_loss   cls_loss   dfl_loss  Instances       Size\n"
          ]
        },
        {
          "name": "stderr",
          "output_type": "stream",
          "text": [
            "  0%|          | 0/41 [00:00<?, ?it/s]"
          ]
        }
      ],
      "source": [
        "# Use the model\n",
        "results = model.train(data='data\\dataset.yaml', epochs=5)  # train the model"
      ]
    },
    {
      "cell_type": "code",
      "execution_count": null,
      "metadata": {
        "id": "x8C-IX54YIv4"
      },
      "outputs": [],
      "source": [
        "# Load YOLOv8n, train it on COCO128 for 3 epochs and predict an image with it\n",
        "from ultralytics import YOLO\n",
        "\n",
        "model = YOLO('yolov8n.pt')  # load a pretrained YOLOv8n detection model\n",
        "model.train(data='coco8.yaml', epochs=3)  # train the model\n",
        "model('https://ultralytics.com/images/bus.jpg')  # predict on an image"
      ]
    }
  ],
  "metadata": {
    "accelerator": "GPU",
    "colab": {
      "gpuType": "T4",
      "provenance": []
    },
    "kernelspec": {
      "display_name": "Python 3",
      "name": "python3"
    },
    "language_info": {
      "codemirror_mode": {
        "name": "ipython",
        "version": 3
      },
      "file_extension": ".py",
      "mimetype": "text/x-python",
      "name": "python",
      "nbconvert_exporter": "python",
      "pygments_lexer": "ipython3",
      "version": "3.10.9"
    }
  },
  "nbformat": 4,
  "nbformat_minor": 0
}
